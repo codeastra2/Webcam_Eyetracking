{
 "cells": [
  {
   "cell_type": "code",
   "execution_count": 2,
   "metadata": {},
   "outputs": [],
   "source": [
    "import torch \n",
    "import torch.nn as nn\n",
    "import torchvision.models as models\n",
    "import torch.nn.functional as F\n",
    "import numpy as np\n",
    "import cv2\n",
    "\n",
    "\n"
   ]
  },
  {
   "cell_type": "code",
   "execution_count": 5,
   "metadata": {},
   "outputs": [],
   "source": [
    "vgg_wei = np.load(\"vgg16_weights.npz\", allow_pickle=True)\n"
   ]
  },
  {
   "cell_type": "code",
   "execution_count": 6,
   "metadata": {},
   "outputs": [
    {
     "name": "stdout",
     "output_type": "stream",
     "text": [
      "(3, 3, 3, 64)\n",
      "(3, 3, 64, 64)\n",
      "(3, 3, 64, 128)\n",
      "(3, 3, 128, 128)\n"
     ]
    }
   ],
   "source": [
    "# vgg_wei['conv1_1_W'].shape\n",
    "\n",
    "print(vgg_wei['conv1_1_W'].shape)\n",
    "print(vgg_wei['conv1_2_W'].shape)\n",
    "\n",
    "print(vgg_wei['conv2_1_W'].shape)\n",
    "print(vgg_wei['conv2_2_W'].shape)\n",
    "\n",
    "\n",
    "# filter_height, filter_width, in_channels, out_channels"
   ]
  },
  {
   "cell_type": "code",
   "execution_count": 14,
   "metadata": {},
   "outputs": [],
   "source": [
    "class GEDDnet(nn.Module):\n",
    "\n",
    "    def __init__(self,\n",
    "            rf=[[2, 2], [3, 3], [5, 5], [11, 11]],\n",
    "            num_face=[64, 128, 64, 64, 128, 256, 64],\n",
    "            r=[[2, 2], [3, 3], [4, 5], [5, 11]],\n",
    "            num_eye=[64, 128, 64, 64, 128, 256],\n",
    "            num_comb=[0, 256],\n",
    "            num_subj=1):\n",
    "\n",
    "        super(GEDDnet, self).__init__()\n",
    "\n",
    "        self.vgg_wei = np.load(\"vgg16_weights.npz\", allow_pickle=True)\n",
    "\n",
    "        self.num_comb = [0, 256]\n",
    "        self.num_comb[0] = num_face[-1] + 2*num_eye[-1]\n",
    "\n",
    "        self.max_pool = nn.MaxPool2d(kernel_size=(2, 2), stride=(2, 2))\n",
    "        self.dropout = nn.Dropout(p=0.5)\n",
    "\n",
    "        self.face_conv1_1 = nn.Conv2d(in_channels=3, out_channels=64, kernel_size=(3, 3), stride=(1, 1))\n",
    "        self.face_conv1_1.weight.data  = torch.from_numpy(self.vgg_wei['conv1_1_W'].transpose(3, 2, 0, 1))\n",
    "        self.face_conv1_1.bias.data = torch.from_numpy(self.vgg_wei['conv1_1_b'])\n",
    "\n",
    "        self.face_conv1_2 = nn.Conv2d(in_channels=64, out_channels=64, kernel_size=(3, 3), stride=(1, 1))\n",
    "        self.face_conv1_2.weight.data = torch.from_numpy(self.vgg_wei['conv1_2_W'].transpose(3, 2, 0, 1))\n",
    "        self.face_conv1_2.bias.data = torch.from_numpy(self.vgg_wei['conv1_2_b'])\n",
    "\n",
    "        self.face_conv2_1 = nn.Conv2d(in_channels=64, out_channels=128, kernel_size=(3, 3), stride=(1, 1))\n",
    "        self.face_conv2_1.weight.data = torch.from_numpy(self.vgg_wei['conv2_1_W'].transpose(3, 2, 0, 1))\n",
    "        self.face_conv2_1.bias.data = torch.from_numpy(self.vgg_wei['conv2_1_b'])\n",
    "\n",
    "        self.face_conv2_2 = nn.Conv2d(in_channels=128, out_channels=128, kernel_size=(3, 3), stride=(1, 1))\n",
    "        self.face_conv2_2.weight.data = torch.from_numpy(self.vgg_wei['conv2_2_W'].transpose(3, 2, 0, 1))\n",
    "        self.face_conv2_2.bias.data = torch.from_numpy(self.vgg_wei['conv2_2_b'])\n",
    "\n",
    "        self.face_conv2_3 = nn.Conv2d(in_channels=num_face[1], out_channels=num_face[2], kernel_size=(1, 1), stride=(1, 1))\n",
    "        self.face_conv2_3_norm = nn.BatchNorm2d(num_face[2])\n",
    "\n",
    "        self.face_conv3_1 = nn.Conv2d(in_channels=num_face[2], out_channels=num_face[3], dilation=rf[0], kernel_size=(3, 3), stride=(1, 1))\n",
    "        self.face_conv3_1_norm = nn.BatchNorm2d(num_face[3])\n",
    "\n",
    "        self.face_conv3_2 = nn.Conv2d(in_channels=num_face[3], out_channels=num_face[3], dilation=rf[1],  kernel_size=(3, 3), stride=(1, 1))\n",
    "        self.face_conv3_2_norm = nn.BatchNorm2d(num_face[3])\n",
    "\n",
    "        self.face_conv4_1 = nn.Conv2d(in_channels=num_face[3], out_channels=num_face[4], dilation=rf[2], kernel_size=(3, 3),stride=(1, 1))\n",
    "        self.face_conv4_1_norm = nn.BatchNorm2d(num_face[4])\n",
    "\n",
    "        self.face_conv4_2 = nn.Conv2d(in_channels=num_face[4], out_channels=num_face[4], dilation=rf[3], kernel_size=(3, 3),stride=(1, 1))\n",
    "        self.face_conv4_2_norm = nn.BatchNorm2d(num_face[4])\n",
    "\n",
    "        self.face_fc1 = nn.Linear(12*12*num_face[4], num_face[5])\n",
    "        self.face_fc1_norm = nn.BatchNorm1d(num_face[5])\n",
    "\n",
    "        self.face_fc2 = nn.Linear(num_face[5], num_face[6])\n",
    "        self.face_fc2_norm = nn.BatchNorm1d(num_face[6])\n",
    "\n",
    "        self.eye_conv1_1 = nn.Conv2d(in_channels=3, out_channels=64, kernel_size=(3, 3), stride=(1, 1))\n",
    "        self.eye_conv1_1.weight.data  = torch.from_numpy(self.vgg_wei['conv1_1_W'].transpose(3, 2, 0, 1))\n",
    "        self.eye_conv1_1.bias.data = torch.from_numpy(self.vgg_wei['conv1_1_b'])\n",
    "   \n",
    "        self.eye_conv1_2 = nn.Conv2d(in_channels=64, out_channels=64, kernel_size=(3, 3), stride=(1, 1))\n",
    "        self.eye_conv1_2.weight.data  = torch.from_numpy(self.vgg_wei['conv1_2_W'].transpose(3, 2, 0, 1))\n",
    "        self.eye_conv1_2.bias.data = torch.from_numpy(self.vgg_wei['conv1_2_b'])\n",
    "\n",
    "        self.eye_conv2_1 = nn.Conv2d(in_channels=64, out_channels=128, kernel_size=(3, 3), stride=(1, 1))\n",
    "        self.eye_conv2_1.weight.data  = torch.from_numpy(self.vgg_wei['conv2_1_W'].transpose(3, 2, 0, 1))\n",
    "        self.eye_conv2_1.bias.data = torch.from_numpy(self.vgg_wei['conv2_1_b'])\n",
    "\n",
    "        self.eye_conv2_2 = nn.Conv2d(in_channels=128, out_channels=128, kernel_size=(3, 3), stride=(1, 1))\n",
    "        self.eye_conv2_2.weight.data  = torch.from_numpy(self.vgg_wei['conv2_2_W'].transpose(3, 2, 0, 1))\n",
    "        self.eye_conv2_2.bias.data = torch.from_numpy(self.vgg_wei['conv2_2_b'])\n",
    "\n",
    "        self.eye_conv2_3 = nn.Conv2d(in_channels=num_eye[1], out_channels=num_eye[2], kernel_size=(1, 1), stride=(1, 1))\n",
    "        self.eye_conv2_3_norm = nn.BatchNorm2d(num_eye[2])\n",
    "\n",
    "        self.eye_conv3_1 = nn.Conv2d(in_channels=num_eye[2], out_channels=num_eye[3], dilation=r[0], kernel_size=(3, 3), stride=(1, 1))\n",
    "        self.eye_conv3_1_norm = nn.BatchNorm2d(num_eye[3])\n",
    "        \n",
    "        self.eye_conv3_2 = nn.Conv2d(in_channels=num_eye[3], out_channels=num_eye[3], dilation=r[1],  kernel_size=(3, 3), stride=(1, 1))\n",
    "        self.eye_conv3_2_norm = nn.BatchNorm2d(num_eye[3])\n",
    "\n",
    "        self.eye_conv4_1 = nn.Conv2d(in_channels=num_eye[3], out_channels=num_eye[4], dilation=r[2], kernel_size=(3, 3),stride=(1, 1))\n",
    "        self.eye_conv4_1_norm = nn.BatchNorm2d(num_eye[4])\n",
    "\n",
    "        self.eye_conv4_2 = nn.Conv2d(in_channels=num_eye[4], out_channels=num_eye[4], dilation=r[3], kernel_size=(2, 2),stride=(1, 1))\n",
    "        self.eye_conv4_2_norm = nn.BatchNorm2d(num_eye[4])\n",
    "\n",
    "        self.eye_fc1 = nn.Linear(31*3*num_eye[4], num_eye[5])\n",
    "\n",
    "        self.combined_fc1 = nn.Linear(576, num_comb[1])\n",
    "        self.combined_fc2 = nn.Linear(num_comb[1], 2)\n",
    "\n",
    "        self.bias_w_fc =  torch.empty((num_subj,2), dtype=torch.float32, requires_grad=True)\n",
    "        self.bias_w_fc.fill_(0.5)\n",
    "\n",
    "    def forward(self, X_face, X_leye, X_reye, sunj_id):\n",
    "        X_face = F.relu(self.face_conv1_1(X_face))\n",
    "        X_face = F.relu(self.face_conv1_2(X_face))\n",
    "        X_face = self.max_pool(X_face)\n",
    "\n",
    "        X_face = F.relu(self.face_conv2_1(X_face))\n",
    "        X_face = F.relu(self.face_conv2_2(X_face))\n",
    "        X_face = F.relu(self.face_conv2_3(X_face))\n",
    "        X_face = self.face_conv2_3_norm(X_face)\n",
    "        \n",
    "        X_face = F.relu(self.face_conv3_1(X_face))\n",
    "        X_face = self.face_conv3_1_norm(X_face)\n",
    "\n",
    "        X_face = F.relu(self.face_conv3_2(X_face))\n",
    "        X_face = self.face_conv3_2_norm(X_face)\n",
    "        X_face = F.relu(self.face_conv4_1(X_face))\n",
    "        X_face = self.face_conv4_1_norm(X_face)\n",
    "        X_face = F.relu(self.face_conv4_2(X_face))\n",
    "        X_face = self.face_conv4_2_norm(X_face)\n",
    "\n",
    "        X_face = F.relu(self.face_fc1(X_face.view(-1)))\n",
    "\n",
    "        # Convert to 4D Tensor for batch norm. \n",
    "        # X_face = X_face[None, :]\n",
    "        # X_face = self.face_fc1_norm(X_face)\n",
    "        X_face = self.dropout(X_face)\n",
    "        X_face = F.relu(self.face_fc2(X_face))\n",
    "        # X_face = self.face_fc2_norm(X_face)\n",
    "\n",
    "        X_leye = F.relu(self.eye_conv1_1(X_leye))\n",
    "        X_leye = F.relu(self.eye_conv1_2(X_leye))\n",
    "        X_leye = self.max_pool(X_leye)\n",
    "\n",
    "        X_leye = F.relu(self.eye_conv2_1(X_leye))\n",
    "        X_leye = F.relu(self.eye_conv2_2(X_leye))\n",
    "\n",
    "        X_leye = F.relu(self.eye_conv2_3(X_leye))\n",
    "        X_leye = self.eye_conv2_3_norm(X_leye)\n",
    "\n",
    "        X_leye = F.relu(self.eye_conv3_1(X_leye))\n",
    "        X_leye = self.eye_conv3_1_norm(X_leye)\n",
    "\n",
    "        X_leye = F.relu(self.eye_conv3_2(X_leye))\n",
    "        X_leye = self.eye_conv3_2_norm(X_leye)\n",
    "\n",
    "        X_leye = F.relu(self.eye_conv4_1(X_leye))\n",
    "        X_leye = self.eye_conv4_1_norm(X_leye)\n",
    "\n",
    "        X_leye = F.relu(self.eye_conv4_2(X_leye))\n",
    "        X_leye = self.eye_conv4_2_norm(X_leye)\n",
    "\n",
    "        X_leye = F.relu(self.eye_fc1(X_leye.view(-1)))\n",
    "\n",
    "        X_reye = F.relu(self.eye_conv1_1(X_reye))\n",
    "        X_reye = F.relu(self.eye_conv1_2(X_reye))\n",
    "        X_reye = self.max_pool(X_reye)\n",
    "\n",
    "        X_reye = F.relu(self.eye_conv2_1(X_reye))\n",
    "        X_reye = F.relu(self.eye_conv2_2(X_reye))\n",
    "\n",
    "        X_reye = F.relu(self.eye_conv2_3(X_reye))\n",
    "        X_reye = self.eye_conv2_3_norm(X_reye)\n",
    "\n",
    "        X_reye = F.relu(self.eye_conv3_1(X_reye))\n",
    "        X_reye = self.eye_conv3_1_norm(X_reye)\n",
    "\n",
    "        X_reye = F.relu(self.eye_conv3_2(X_reye))\n",
    "        X_reye = self.eye_conv3_2_norm(X_reye)\n",
    "\n",
    "        X_reye = F.relu(self.eye_conv4_1(X_reye))\n",
    "        X_reye = self.eye_conv4_1_norm(X_reye)\n",
    "\n",
    "        X_reye = F.relu(self.eye_conv4_2(X_reye))\n",
    "        X_reye = self.eye_conv4_2_norm(X_reye)\n",
    "\n",
    "        X_reye = F.relu(self.eye_fc1(X_reye.view(-1)))\n",
    "\n",
    "        X_combined = torch.cat((X_face, X_leye, X_reye), 0)\n",
    "\n",
    "        X_combined = self.dropout(X_combined)\n",
    "        X_combined = F.relu(self.combined_fc1(X_combined))\n",
    "        X_combined = self.dropout(X_combined)\n",
    "\n",
    "        t_hat = F.relu(self.combined_fc2(X_combined))\n",
    "        b_hat = torch.matmul(sunj_id, self.bias_w_fc)\n",
    "        g_hat = t_hat + b_hat\n",
    "\n",
    "        return g_hat, t_hat, b_hat\n"
   ]
  },
  {
   "cell_type": "code",
   "execution_count": 30,
   "metadata": {},
   "outputs": [
    {
     "data": {
      "text/plain": [
       "(64, 3, 3, 3)"
      ]
     },
     "execution_count": 30,
     "metadata": {},
     "output_type": "execute_result"
    }
   ],
   "source": [
    "vgg_wei['conv1_1_W'].transpose(3, 0, 1, 2).shape"
   ]
  },
  {
   "cell_type": "code",
   "execution_count": 10,
   "metadata": {},
   "outputs": [
    {
     "name": "stdout",
     "output_type": "stream",
     "text": [
      "(120, 120, 3)\n",
      "(3, 120, 120)\n"
     ]
    }
   ],
   "source": [
    "dataset_np = np.load(\"dataset.npy\", allow_pickle=True)\n",
    "face = dataset_np[4][0]\n",
    "leye = dataset_np[4][1]\n",
    "reye = dataset_np[4][2]\n",
    "print(face.shape)\n",
    "cv2.imwrite(\"face_bef.jpg\", face)\n",
    "\n",
    "# face = face[:, : ,::-1]\n",
    "# cv2.imwrite(\"face_aft.jpg\", face)\n",
    "\n",
    "face = face.transpose(2, 0, 1)\n",
    "leye = leye.transpose(2, 0, 1)\n",
    "reye = reye.transpose(2, 0, 1)\n",
    "\n",
    "\n",
    "print(face.shape)\n",
    "\n",
    "face = torch.from_numpy(face).float()\n",
    "leye = torch.from_numpy(leye).float()\n",
    "reye = torch.from_numpy(reye).float()\n",
    "\n",
    "face = face[None, :]\n",
    "leye = leye[None, :]\n",
    "reye = reye[None, :]\n",
    "# print(face.shape)\n",
    "# print(face[None, :].shape)\n",
    "\n"
   ]
  },
  {
   "cell_type": "code",
   "execution_count": 16,
   "metadata": {},
   "outputs": [
    {
     "name": "stdout",
     "output_type": "stream",
     "text": [
      "torch.Size([2])\n",
      "torch.Size([2])\n"
     ]
    }
   ],
   "source": [
    "import importlib\n",
    "# importlib.reload(sys.modules.get(GEDDnet.__module__))\n",
    "geddnet = GEDDnet()\n",
    "\n",
    "subj_id = torch.FloatTensor([1])\n",
    "\n",
    "y1, y2, y3 = geddnet(face, leye, reye, subj_id)\n"
   ]
  },
  {
   "cell_type": "code",
   "execution_count": 17,
   "metadata": {},
   "outputs": [
    {
     "name": "stdout",
     "output_type": "stream",
     "text": [
      "tensor([0.5596, 0.5394], grad_fn=<AddBackward0>) tensor([0.0596, 0.0394], grad_fn=<ReluBackward0>)\n"
     ]
    }
   ],
   "source": [
    "print(y1, y2)"
   ]
  },
  {
   "cell_type": "code",
   "execution_count": 62,
   "metadata": {},
   "outputs": [
    {
     "name": "stdout",
     "output_type": "stream",
     "text": [
      "(3, 3, 64, 64)\n",
      "(64, 64, 3, 3)\n"
     ]
    }
   ],
   "source": [
    "# geddnet.face_conv1_2.weight.shape\n",
    "# torch.Size([64, 64, 3, 3])\n",
    "print(vgg_wei['conv1_2_W'].shape)\n",
    "print(vgg_wei['conv1_2_W'].transpose(3, 2, 0, 1).shape)"
   ]
  },
  {
   "cell_type": "code",
   "execution_count": 24,
   "metadata": {},
   "outputs": [
    {
     "data": {
      "text/plain": [
       "array([-0.12471915,  0.15138906])"
      ]
     },
     "execution_count": 24,
     "metadata": {},
     "output_type": "execute_result"
    }
   ],
   "source": [
    "dataset_np[4][3]"
   ]
  }
 ],
 "metadata": {
  "interpreter": {
   "hash": "d3d1fcdeab78219d786a420e29c916cbcda8b9e8ff2da019548e2e62bfde595f"
  },
  "kernelspec": {
   "display_name": "Python 3.9.7 ('venv397')",
   "language": "python",
   "name": "python3"
  },
  "language_info": {
   "codemirror_mode": {
    "name": "ipython",
    "version": 3
   },
   "file_extension": ".py",
   "mimetype": "text/x-python",
   "name": "python",
   "nbconvert_exporter": "python",
   "pygments_lexer": "ipython3",
   "version": "3.9.7"
  },
  "orig_nbformat": 4
 },
 "nbformat": 4,
 "nbformat_minor": 2
}
