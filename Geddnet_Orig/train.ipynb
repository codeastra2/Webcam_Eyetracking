{
 "cells": [
  {
   "cell_type": "code",
   "execution_count": 1,
   "metadata": {},
   "outputs": [],
   "source": [
    "import torch \n",
    "import torch.nn as nn\n",
    "import torchvision.models as models\n",
    "import torch.nn.functional as F\n",
    "import numpy as np\n",
    "from GeDDNet import GEDDnet\n",
    "import sys\n",
    "import cv2"
   ]
  },
  {
   "cell_type": "code",
   "execution_count": 2,
   "metadata": {},
   "outputs": [],
   "source": [
    "geddnet = GEDDnet()\n"
   ]
  },
  {
   "cell_type": "code",
   "execution_count": 2,
   "metadata": {},
   "outputs": [],
   "source": [
    "dataset_np = np.load(\"dataset.npy\", allow_pickle=True)"
   ]
  },
  {
   "cell_type": "code",
   "execution_count": 12,
   "metadata": {},
   "outputs": [],
   "source": [
    "dataset_np = np.load(\"dataset.npy\", allow_pickle=True)\n",
    "face = dataset_np[4][0]\n",
    "leye = dataset_np[4][1]\n",
    "reye = dataset_np[4][2]\n",
    "y = dataset_np[4][3]\n",
    "\n",
    "face = face.transpose(2, 0, 1)\n",
    "leye = leye.transpose(2, 0, 1)\n",
    "reye = reye.transpose(2, 0, 1)\n",
    "\n",
    "face = torch.from_numpy(face).float()\n",
    "leye = torch.from_numpy(leye).float()\n",
    "reye = torch.from_numpy(reye).float()\n",
    "y = torch.from_numpy(y).float()\n",
    "\n",
    "face = face[None, :]\n",
    "leye = leye[None, :]\n",
    "reye = reye[None, :]\n",
    "y = y[None, :]\n",
    "\n",
    "subj_id = torch.FloatTensor([1])\n"
   ]
  },
  {
   "cell_type": "code",
   "execution_count": 13,
   "metadata": {},
   "outputs": [],
   "source": [
    "g_hat, t_hat, b_hat = geddnet(face, leye, reye, subj_id)\n"
   ]
  },
  {
   "cell_type": "code",
   "execution_count": 14,
   "metadata": {},
   "outputs": [
    {
     "data": {
      "text/plain": [
       "tensor(108.5769, grad_fn=<MseLossBackward0>)"
      ]
     },
     "execution_count": 14,
     "metadata": {},
     "output_type": "execute_result"
    }
   ],
   "source": [
    "mse_loss = nn.MSELoss()\n",
    "mse_loss(g_hat*10, y*10)"
   ]
  }
 ],
 "metadata": {
  "interpreter": {
   "hash": "d3d1fcdeab78219d786a420e29c916cbcda8b9e8ff2da019548e2e62bfde595f"
  },
  "kernelspec": {
   "display_name": "Python 3.9.7 ('venv397')",
   "language": "python",
   "name": "python3"
  },
  "language_info": {
   "codemirror_mode": {
    "name": "ipython",
    "version": 3
   },
   "file_extension": ".py",
   "mimetype": "text/x-python",
   "name": "python",
   "nbconvert_exporter": "python",
   "pygments_lexer": "ipython3",
   "version": "3.9.7"
  },
  "orig_nbformat": 4
 },
 "nbformat": 4,
 "nbformat_minor": 2
}
